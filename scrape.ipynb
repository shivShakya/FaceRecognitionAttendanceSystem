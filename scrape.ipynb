{
 "cells": [
  {
   "cell_type": "code",
   "execution_count": 84,
   "metadata": {},
   "outputs": [],
   "source": [
    "import pandas as pd\n",
    "import requests\n",
    "from bs4 import BeautifulSoup\n",
    "import selenium.webdriver as webdriver\n",
    "import urllib.request\n",
    "from PIL import Image\n",
    "import cv2\n",
    "import io\n",
    "import numpy as np\n",
    "import os "
   ]
  },
  {
   "cell_type": "code",
   "execution_count": 85,
   "metadata": {},
   "outputs": [],
   "source": [
    "face_cascade = cv2.CascadeClassifier('/Users/jyoti-alok/Desktop/FaceDetection/backend/haarcascades/haarcascade_frontalface_default.xml')\n",
    "eye_cascade = cv2.CascadeClassifier('/Users/jyoti-alok/Desktop/FaceDetection/backend/haarcascades/haarcascade_frontalface_default.xml')\n",
    "\n",
    "def driver(url): \n",
    "   driver = webdriver.Safari()\n",
    "   driver.get(url)\n",
    "   return driver\n",
    "   \n",
    "def soup(driver):\n",
    "      soup = BeautifulSoup(driver.page_source)\n",
    "      return soup\n",
    "\n",
    "def  scrapeImageUrl(soup,img_class):\n",
    "       url_list = []\n",
    "       link_img = soup.find_all('img', class_= img_class)\n",
    "       for i in range(len(link_img)):\n",
    "             src = link_img[i].get('src')\n",
    "             url_list.append(src)\n",
    "       return url_list\n",
    "\n",
    "def makefiles(name,url_list):\n",
    "        if not os.path.exists('Img_Collect/'+name):\n",
    "                     os.makedirs('Img_Collect/'+name)\n",
    "        for i in range(240):\n",
    "             url =  url_list[i]\n",
    "             response = requests.get(url) \n",
    "             with open(f'Img_Collect/{name}/{name}_{i}.jpg','wb') as f:\n",
    "                  f.write(response.content)"
   ]
  },
  {
   "cell_type": "code",
   "execution_count": 86,
   "metadata": {},
   "outputs": [],
   "source": [
    "driver = driver('https://www.gettyimages.in/photos/ayushmann-khurrana?assettype=image&family=editorial&page=7&phrase=ayushmann%20khurrana&sort=best')"
   ]
  },
  {
   "cell_type": "code",
   "execution_count": 87,
   "metadata": {},
   "outputs": [],
   "source": [
    "soup  = soup(driver)\n",
    "url = scrapeImageUrl(soup,'Xc8V0Fvh0qg0lUySLpoi')"
   ]
  },
  {
   "cell_type": "code",
   "execution_count": 68,
   "metadata": {},
   "outputs": [],
   "source": [
    "url_list = []"
   ]
  },
  {
   "cell_type": "code",
   "execution_count": 88,
   "metadata": {},
   "outputs": [],
   "source": [
    "for i in url:\n",
    "    url_list.append(i)"
   ]
  },
  {
   "cell_type": "code",
   "execution_count": 89,
   "metadata": {},
   "outputs": [
    {
     "data": {
      "text/plain": [
       "240"
      ]
     },
     "execution_count": 89,
     "metadata": {},
     "output_type": "execute_result"
    }
   ],
   "source": [
    "len(url_list)"
   ]
  },
  {
   "cell_type": "code",
   "execution_count": 90,
   "metadata": {},
   "outputs": [],
   "source": [
    "makefiles('Aushmaan Khurana',url_list)"
   ]
  }
 ],
 "metadata": {
  "kernelspec": {
   "display_name": "Python 3.11.1 64-bit",
   "language": "python",
   "name": "python3"
  },
  "language_info": {
   "codemirror_mode": {
    "name": "ipython",
    "version": 3
   },
   "file_extension": ".py",
   "mimetype": "text/x-python",
   "name": "python",
   "nbconvert_exporter": "python",
   "pygments_lexer": "ipython3",
   "version": "3.11.1"
  },
  "orig_nbformat": 4,
  "vscode": {
   "interpreter": {
    "hash": "1a1af0ee75eeea9e2e1ee996c87e7a2b11a0bebd85af04bb136d915cefc0abce"
   }
  }
 },
 "nbformat": 4,
 "nbformat_minor": 2
}
